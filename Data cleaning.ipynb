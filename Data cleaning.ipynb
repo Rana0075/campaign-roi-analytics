{
 "cells": [
  {
   "cell_type": "code",
   "execution_count": 1,
   "id": "1cc6da10-5394-42d6-a876-76dd2c15e066",
   "metadata": {},
   "outputs": [],
   "source": [
    "import numpy as np\n",
    "import pandas as pd\n",
    "import matplotlib.pyplot as plt\n",
    "import seaborn as sns"
   ]
  },
  {
   "cell_type": "code",
   "execution_count": 2,
   "id": "a0164db8-4f87-405b-8b65-ec1e87ee07ed",
   "metadata": {
    "scrolled": true
   },
   "outputs": [
    {
     "data": {
      "text/html": [
       "<div>\n",
       "<style scoped>\n",
       "    .dataframe tbody tr th:only-of-type {\n",
       "        vertical-align: middle;\n",
       "    }\n",
       "\n",
       "    .dataframe tbody tr th {\n",
       "        vertical-align: top;\n",
       "    }\n",
       "\n",
       "    .dataframe thead th {\n",
       "        text-align: right;\n",
       "    }\n",
       "</style>\n",
       "<table border=\"1\" class=\"dataframe\">\n",
       "  <thead>\n",
       "    <tr style=\"text-align: right;\">\n",
       "      <th></th>\n",
       "      <th>Campaign_ID</th>\n",
       "      <th>Target_Audience</th>\n",
       "      <th>Campaign_Goal</th>\n",
       "      <th>Duration</th>\n",
       "      <th>Channel_Used</th>\n",
       "      <th>Conversion_Rate</th>\n",
       "      <th>Acquisition_Cost</th>\n",
       "      <th>ROI</th>\n",
       "      <th>Location</th>\n",
       "      <th>Clicks</th>\n",
       "      <th>Impressions</th>\n",
       "    </tr>\n",
       "  </thead>\n",
       "  <tbody>\n",
       "    <tr>\n",
       "      <th>0</th>\n",
       "      <td>529013</td>\n",
       "      <td>Men 35-44</td>\n",
       "      <td>Product Launch</td>\n",
       "      <td>15 Days</td>\n",
       "      <td>Instagram</td>\n",
       "      <td>0.15</td>\n",
       "      <td>$500.00</td>\n",
       "      <td>5.790000</td>\n",
       "      <td>Las Vegas</td>\n",
       "      <td>500</td>\n",
       "      <td>3000</td>\n",
       "    </tr>\n",
       "    <tr>\n",
       "      <th>1</th>\n",
       "      <td>275352</td>\n",
       "      <td>Women 45-60</td>\n",
       "      <td>Market Expansion</td>\n",
       "      <td>15 Days</td>\n",
       "      <td>Facebook</td>\n",
       "      <td>0.01</td>\n",
       "      <td>$500.00</td>\n",
       "      <td>7.210000</td>\n",
       "      <td>Los Angeles</td>\n",
       "      <td>500</td>\n",
       "      <td>3000</td>\n",
       "    </tr>\n",
       "    <tr>\n",
       "      <th>2</th>\n",
       "      <td>692322</td>\n",
       "      <td>Men 45-60</td>\n",
       "      <td>Product Launch</td>\n",
       "      <td>15 Days</td>\n",
       "      <td>Instagram</td>\n",
       "      <td>0.08</td>\n",
       "      <td>$500.00</td>\n",
       "      <td>0.430000</td>\n",
       "      <td>Austin</td>\n",
       "      <td>500</td>\n",
       "      <td>3000</td>\n",
       "    </tr>\n",
       "    <tr>\n",
       "      <th>3</th>\n",
       "      <td>675757</td>\n",
       "      <td>Men 25-34</td>\n",
       "      <td>Increase Sales</td>\n",
       "      <td>15 Days</td>\n",
       "      <td>Pinterest</td>\n",
       "      <td>0.03</td>\n",
       "      <td>$500.00</td>\n",
       "      <td>0.909824</td>\n",
       "      <td>Miami</td>\n",
       "      <td>293</td>\n",
       "      <td>1937</td>\n",
       "    </tr>\n",
       "    <tr>\n",
       "      <th>4</th>\n",
       "      <td>535900</td>\n",
       "      <td>Men 45-60</td>\n",
       "      <td>Market Expansion</td>\n",
       "      <td>15 Days</td>\n",
       "      <td>Pinterest</td>\n",
       "      <td>0.13</td>\n",
       "      <td>$500.00</td>\n",
       "      <td>1.422828</td>\n",
       "      <td>Austin</td>\n",
       "      <td>293</td>\n",
       "      <td>1937</td>\n",
       "    </tr>\n",
       "  </tbody>\n",
       "</table>\n",
       "</div>"
      ],
      "text/plain": [
       "   Campaign_ID Target_Audience     Campaign_Goal Duration Channel_Used  \\\n",
       "0       529013       Men 35-44    Product Launch  15 Days    Instagram   \n",
       "1       275352     Women 45-60  Market Expansion  15 Days     Facebook   \n",
       "2       692322       Men 45-60    Product Launch  15 Days    Instagram   \n",
       "3       675757       Men 25-34    Increase Sales  15 Days    Pinterest   \n",
       "4       535900       Men 45-60  Market Expansion  15 Days    Pinterest   \n",
       "\n",
       "   Conversion_Rate Acquisition_Cost       ROI     Location  Clicks  \\\n",
       "0             0.15          $500.00  5.790000    Las Vegas     500   \n",
       "1             0.01          $500.00  7.210000  Los Angeles     500   \n",
       "2             0.08          $500.00  0.430000       Austin     500   \n",
       "3             0.03          $500.00  0.909824        Miami     293   \n",
       "4             0.13          $500.00  1.422828       Austin     293   \n",
       "\n",
       "   Impressions  \n",
       "0         3000  \n",
       "1         3000  \n",
       "2         3000  \n",
       "3         1937  \n",
       "4         1937  "
      ]
     },
     "execution_count": 2,
     "metadata": {},
     "output_type": "execute_result"
    }
   ],
   "source": [
    "df= pd.read_csv(\"C:/Users/DELL/Downloads/Social_Media_Advertising_data.csv\")\n",
    "df.head()"
   ]
  },
  {
   "cell_type": "code",
   "execution_count": 3,
   "id": "e04fd883-0202-4380-84d8-c41271b50116",
   "metadata": {},
   "outputs": [
    {
     "name": "stdout",
     "output_type": "stream",
     "text": [
      "<class 'pandas.core.frame.DataFrame'>\n",
      "RangeIndex: 300000 entries, 0 to 299999\n",
      "Data columns (total 11 columns):\n",
      " #   Column            Non-Null Count   Dtype  \n",
      "---  ------            --------------   -----  \n",
      " 0   Campaign_ID       300000 non-null  int64  \n",
      " 1   Target_Audience   300000 non-null  object \n",
      " 2   Campaign_Goal     300000 non-null  object \n",
      " 3   Duration          300000 non-null  object \n",
      " 4   Channel_Used      300000 non-null  object \n",
      " 5   Conversion_Rate   300000 non-null  float64\n",
      " 6   Acquisition_Cost  300000 non-null  object \n",
      " 7   ROI               300000 non-null  float64\n",
      " 8   Location          300000 non-null  object \n",
      " 9   Clicks            300000 non-null  int64  \n",
      " 10  Impressions       300000 non-null  int64  \n",
      "dtypes: float64(2), int64(3), object(6)\n",
      "memory usage: 25.2+ MB\n"
     ]
    }
   ],
   "source": [
    "df.info()"
   ]
  },
  {
   "cell_type": "code",
   "execution_count": 4,
   "id": "2d607e6c-82b8-4379-9479-b65c0597a11f",
   "metadata": {},
   "outputs": [
    {
     "data": {
      "text/html": [
       "<div>\n",
       "<style scoped>\n",
       "    .dataframe tbody tr th:only-of-type {\n",
       "        vertical-align: middle;\n",
       "    }\n",
       "\n",
       "    .dataframe tbody tr th {\n",
       "        vertical-align: top;\n",
       "    }\n",
       "\n",
       "    .dataframe thead th {\n",
       "        text-align: right;\n",
       "    }\n",
       "</style>\n",
       "<table border=\"1\" class=\"dataframe\">\n",
       "  <thead>\n",
       "    <tr style=\"text-align: right;\">\n",
       "      <th></th>\n",
       "      <th>Campaign_ID</th>\n",
       "      <th>Conversion_Rate</th>\n",
       "      <th>ROI</th>\n",
       "      <th>Clicks</th>\n",
       "      <th>Impressions</th>\n",
       "    </tr>\n",
       "  </thead>\n",
       "  <tbody>\n",
       "    <tr>\n",
       "      <th>count</th>\n",
       "      <td>300000.000000</td>\n",
       "      <td>300000.000000</td>\n",
       "      <td>300000.000000</td>\n",
       "      <td>300000.000000</td>\n",
       "      <td>300000.000000</td>\n",
       "    </tr>\n",
       "    <tr>\n",
       "      <th>mean</th>\n",
       "      <td>550444.817930</td>\n",
       "      <td>0.080009</td>\n",
       "      <td>3.177691</td>\n",
       "      <td>18153.673343</td>\n",
       "      <td>56034.237467</td>\n",
       "    </tr>\n",
       "    <tr>\n",
       "      <th>std</th>\n",
       "      <td>260252.569191</td>\n",
       "      <td>0.040563</td>\n",
       "      <td>2.461200</td>\n",
       "      <td>11027.023811</td>\n",
       "      <td>32583.135246</td>\n",
       "    </tr>\n",
       "    <tr>\n",
       "      <th>min</th>\n",
       "      <td>100001.000000</td>\n",
       "      <td>0.010000</td>\n",
       "      <td>0.000000</td>\n",
       "      <td>293.000000</td>\n",
       "      <td>1937.000000</td>\n",
       "    </tr>\n",
       "    <tr>\n",
       "      <th>25%</th>\n",
       "      <td>325003.500000</td>\n",
       "      <td>0.050000</td>\n",
       "      <td>0.930000</td>\n",
       "      <td>8821.000000</td>\n",
       "      <td>28362.000000</td>\n",
       "    </tr>\n",
       "    <tr>\n",
       "      <th>50%</th>\n",
       "      <td>551164.500000</td>\n",
       "      <td>0.080000</td>\n",
       "      <td>2.670000</td>\n",
       "      <td>17230.000000</td>\n",
       "      <td>54098.000000</td>\n",
       "    </tr>\n",
       "    <tr>\n",
       "      <th>75%</th>\n",
       "      <td>776284.500000</td>\n",
       "      <td>0.110000</td>\n",
       "      <td>5.330000</td>\n",
       "      <td>26808.000000</td>\n",
       "      <td>80925.250000</td>\n",
       "    </tr>\n",
       "    <tr>\n",
       "      <th>max</th>\n",
       "      <td>999998.000000</td>\n",
       "      <td>0.150000</td>\n",
       "      <td>8.000000</td>\n",
       "      <td>40000.000000</td>\n",
       "      <td>120000.000000</td>\n",
       "    </tr>\n",
       "  </tbody>\n",
       "</table>\n",
       "</div>"
      ],
      "text/plain": [
       "         Campaign_ID  Conversion_Rate            ROI         Clicks  \\\n",
       "count  300000.000000    300000.000000  300000.000000  300000.000000   \n",
       "mean   550444.817930         0.080009       3.177691   18153.673343   \n",
       "std    260252.569191         0.040563       2.461200   11027.023811   \n",
       "min    100001.000000         0.010000       0.000000     293.000000   \n",
       "25%    325003.500000         0.050000       0.930000    8821.000000   \n",
       "50%    551164.500000         0.080000       2.670000   17230.000000   \n",
       "75%    776284.500000         0.110000       5.330000   26808.000000   \n",
       "max    999998.000000         0.150000       8.000000   40000.000000   \n",
       "\n",
       "         Impressions  \n",
       "count  300000.000000  \n",
       "mean    56034.237467  \n",
       "std     32583.135246  \n",
       "min      1937.000000  \n",
       "25%     28362.000000  \n",
       "50%     54098.000000  \n",
       "75%     80925.250000  \n",
       "max    120000.000000  "
      ]
     },
     "execution_count": 4,
     "metadata": {},
     "output_type": "execute_result"
    }
   ],
   "source": [
    "df.describe()"
   ]
  },
  {
   "cell_type": "code",
   "execution_count": 5,
   "id": "f526e4f3-cc49-4942-9f5b-1e4c41249cf2",
   "metadata": {},
   "outputs": [
    {
     "data": {
      "text/plain": [
       "Campaign_ID         0\n",
       "Target_Audience     0\n",
       "Campaign_Goal       0\n",
       "Duration            0\n",
       "Channel_Used        0\n",
       "Conversion_Rate     0\n",
       "Acquisition_Cost    0\n",
       "ROI                 0\n",
       "Location            0\n",
       "Clicks              0\n",
       "Impressions         0\n",
       "dtype: int64"
      ]
     },
     "execution_count": 5,
     "metadata": {},
     "output_type": "execute_result"
    }
   ],
   "source": [
    "df.isnull().sum()"
   ]
  },
  {
   "cell_type": "code",
   "execution_count": 6,
   "id": "2a754e80-6b4b-46e3-990d-cd36f34cb823",
   "metadata": {},
   "outputs": [
    {
     "data": {
      "text/plain": [
       "Index(['Campaign_ID', 'Target_Audience', 'Campaign_Goal', 'Duration',\n",
       "       'Channel_Used', 'Conversion_Rate', 'Acquisition_Cost', 'ROI',\n",
       "       'Location', 'Clicks', 'Impressions'],\n",
       "      dtype='object')"
      ]
     },
     "execution_count": 6,
     "metadata": {},
     "output_type": "execute_result"
    }
   ],
   "source": [
    "df.columns"
   ]
  },
  {
   "cell_type": "code",
   "execution_count": 7,
   "id": "37a8ab64-478a-457b-9329-2764760705f0",
   "metadata": {},
   "outputs": [
    {
     "data": {
      "text/plain": [
       "array(['Men 35-44', 'Women 45-60', 'Men 45-60', 'Men 25-34',\n",
       "       'Women 35-44', 'All Ages', 'Women 25-34', 'Men 18-24',\n",
       "       'Women 18-24'], dtype=object)"
      ]
     },
     "execution_count": 7,
     "metadata": {},
     "output_type": "execute_result"
    }
   ],
   "source": [
    "df.Target_Audience.unique()"
   ]
  },
  {
   "cell_type": "code",
   "execution_count": 8,
   "id": "1bcfac61-5c1a-49d0-a4a7-c3d54888ca28",
   "metadata": {},
   "outputs": [
    {
     "data": {
      "text/plain": [
       "array(['Product Launch', 'Market Expansion', 'Increase Sales',\n",
       "       'Brand Awareness'], dtype=object)"
      ]
     },
     "execution_count": 8,
     "metadata": {},
     "output_type": "execute_result"
    }
   ],
   "source": [
    "df.Campaign_Goal.unique()"
   ]
  },
  {
   "cell_type": "code",
   "execution_count": 9,
   "id": "f896deff-a61a-4e54-8393-cb33a82e7718",
   "metadata": {},
   "outputs": [
    {
     "data": {
      "text/plain": [
       "array(['15 Days', '30 Days', '45 Days', '60 Days'], dtype=object)"
      ]
     },
     "execution_count": 9,
     "metadata": {},
     "output_type": "execute_result"
    }
   ],
   "source": [
    "df.Duration.unique()"
   ]
  },
  {
   "cell_type": "code",
   "execution_count": 10,
   "id": "b42588e9-eee4-4b08-b0cf-374b7df37f2e",
   "metadata": {},
   "outputs": [
    {
     "data": {
      "text/plain": [
       "array(['Instagram', 'Facebook', 'Pinterest', 'Twitter'], dtype=object)"
      ]
     },
     "execution_count": 10,
     "metadata": {},
     "output_type": "execute_result"
    }
   ],
   "source": [
    "df.Channel_Used.unique()"
   ]
  },
  {
   "cell_type": "code",
   "execution_count": 11,
   "id": "36f8ba7e-d947-4e05-8c5c-1e9b01dcb086",
   "metadata": {},
   "outputs": [
    {
     "data": {
      "text/plain": [
       "array(['Las Vegas', 'Los Angeles', 'Austin', 'Miami', 'New York'],\n",
       "      dtype=object)"
      ]
     },
     "execution_count": 11,
     "metadata": {},
     "output_type": "execute_result"
    }
   ],
   "source": [
    "df.Location.unique()"
   ]
  },
  {
   "cell_type": "code",
   "execution_count": 12,
   "id": "557e5126-f270-4e8c-b37e-685aa5c30c47",
   "metadata": {},
   "outputs": [],
   "source": [
    "# converting to int\n",
    "df['Duration'] = df['Duration'].str.replace('Days', '', regex=False).str.strip().astype(int)\n"
   ]
  },
  {
   "cell_type": "code",
   "execution_count": 13,
   "id": "0875f252-16c2-42a0-859f-aa0bc54284a9",
   "metadata": {},
   "outputs": [],
   "source": [
    "# converting to float\n",
    "df['Acquisition_Cost'] = df['Acquisition_Cost'].replace('[\\$,]', '', regex=True).astype(float)\n"
   ]
  },
  {
   "cell_type": "code",
   "execution_count": 14,
   "id": "ebef9785-bd73-4f2b-a66d-83ccaea2e243",
   "metadata": {},
   "outputs": [],
   "source": [
    "df.rename(columns={'Duration': 'Duration(days)', 'Acquisition_Cost': 'Acquisition_Cost($)'}, inplace=True)"
   ]
  },
  {
   "cell_type": "code",
   "execution_count": 15,
   "id": "f889ac8c-51b2-4643-a3b9-3fdcf1774860",
   "metadata": {},
   "outputs": [],
   "source": [
    "# Handle Target column\n",
    "df['Gender'] = df['Target_Audience'].apply(lambda x: 'All' if x == 'All Ages' else x.split()[0])\n",
    "df['Age_Range'] = df['Target_Audience'].apply(lambda x: 'All' if x == 'All Ages' else x.split()[1])\n"
   ]
  },
  {
   "cell_type": "code",
   "execution_count": 16,
   "id": "ee752d0b-4a19-4baa-9d32-830b350c3868",
   "metadata": {},
   "outputs": [],
   "source": [
    "df = df.drop(columns=['Target_Audience'])"
   ]
  },
  {
   "cell_type": "code",
   "execution_count": 17,
   "id": "b6af338b-bbde-48a1-9b5b-33b9b8148c38",
   "metadata": {},
   "outputs": [
    {
     "data": {
      "text/html": [
       "<div>\n",
       "<style scoped>\n",
       "    .dataframe tbody tr th:only-of-type {\n",
       "        vertical-align: middle;\n",
       "    }\n",
       "\n",
       "    .dataframe tbody tr th {\n",
       "        vertical-align: top;\n",
       "    }\n",
       "\n",
       "    .dataframe thead th {\n",
       "        text-align: right;\n",
       "    }\n",
       "</style>\n",
       "<table border=\"1\" class=\"dataframe\">\n",
       "  <thead>\n",
       "    <tr style=\"text-align: right;\">\n",
       "      <th></th>\n",
       "      <th>Campaign_ID</th>\n",
       "      <th>Campaign_Goal</th>\n",
       "      <th>Duration(days)</th>\n",
       "      <th>Channel_Used</th>\n",
       "      <th>Conversion_Rate</th>\n",
       "      <th>Acquisition_Cost($)</th>\n",
       "      <th>ROI</th>\n",
       "      <th>Location</th>\n",
       "      <th>Clicks</th>\n",
       "      <th>Impressions</th>\n",
       "      <th>Gender</th>\n",
       "      <th>Age_Range</th>\n",
       "    </tr>\n",
       "  </thead>\n",
       "  <tbody>\n",
       "    <tr>\n",
       "      <th>0</th>\n",
       "      <td>529013</td>\n",
       "      <td>Product Launch</td>\n",
       "      <td>15</td>\n",
       "      <td>Instagram</td>\n",
       "      <td>0.15</td>\n",
       "      <td>500.0</td>\n",
       "      <td>5.790000</td>\n",
       "      <td>Las Vegas</td>\n",
       "      <td>500</td>\n",
       "      <td>3000</td>\n",
       "      <td>Men</td>\n",
       "      <td>35-44</td>\n",
       "    </tr>\n",
       "    <tr>\n",
       "      <th>1</th>\n",
       "      <td>275352</td>\n",
       "      <td>Market Expansion</td>\n",
       "      <td>15</td>\n",
       "      <td>Facebook</td>\n",
       "      <td>0.01</td>\n",
       "      <td>500.0</td>\n",
       "      <td>7.210000</td>\n",
       "      <td>Los Angeles</td>\n",
       "      <td>500</td>\n",
       "      <td>3000</td>\n",
       "      <td>Women</td>\n",
       "      <td>45-60</td>\n",
       "    </tr>\n",
       "    <tr>\n",
       "      <th>2</th>\n",
       "      <td>692322</td>\n",
       "      <td>Product Launch</td>\n",
       "      <td>15</td>\n",
       "      <td>Instagram</td>\n",
       "      <td>0.08</td>\n",
       "      <td>500.0</td>\n",
       "      <td>0.430000</td>\n",
       "      <td>Austin</td>\n",
       "      <td>500</td>\n",
       "      <td>3000</td>\n",
       "      <td>Men</td>\n",
       "      <td>45-60</td>\n",
       "    </tr>\n",
       "    <tr>\n",
       "      <th>3</th>\n",
       "      <td>675757</td>\n",
       "      <td>Increase Sales</td>\n",
       "      <td>15</td>\n",
       "      <td>Pinterest</td>\n",
       "      <td>0.03</td>\n",
       "      <td>500.0</td>\n",
       "      <td>0.909824</td>\n",
       "      <td>Miami</td>\n",
       "      <td>293</td>\n",
       "      <td>1937</td>\n",
       "      <td>Men</td>\n",
       "      <td>25-34</td>\n",
       "    </tr>\n",
       "    <tr>\n",
       "      <th>4</th>\n",
       "      <td>535900</td>\n",
       "      <td>Market Expansion</td>\n",
       "      <td>15</td>\n",
       "      <td>Pinterest</td>\n",
       "      <td>0.13</td>\n",
       "      <td>500.0</td>\n",
       "      <td>1.422828</td>\n",
       "      <td>Austin</td>\n",
       "      <td>293</td>\n",
       "      <td>1937</td>\n",
       "      <td>Men</td>\n",
       "      <td>45-60</td>\n",
       "    </tr>\n",
       "  </tbody>\n",
       "</table>\n",
       "</div>"
      ],
      "text/plain": [
       "   Campaign_ID     Campaign_Goal  Duration(days) Channel_Used  \\\n",
       "0       529013    Product Launch              15    Instagram   \n",
       "1       275352  Market Expansion              15     Facebook   \n",
       "2       692322    Product Launch              15    Instagram   \n",
       "3       675757    Increase Sales              15    Pinterest   \n",
       "4       535900  Market Expansion              15    Pinterest   \n",
       "\n",
       "   Conversion_Rate  Acquisition_Cost($)       ROI     Location  Clicks  \\\n",
       "0             0.15                500.0  5.790000    Las Vegas     500   \n",
       "1             0.01                500.0  7.210000  Los Angeles     500   \n",
       "2             0.08                500.0  0.430000       Austin     500   \n",
       "3             0.03                500.0  0.909824        Miami     293   \n",
       "4             0.13                500.0  1.422828       Austin     293   \n",
       "\n",
       "   Impressions Gender Age_Range  \n",
       "0         3000    Men     35-44  \n",
       "1         3000  Women     45-60  \n",
       "2         3000    Men     45-60  \n",
       "3         1937    Men     25-34  \n",
       "4         1937    Men     45-60  "
      ]
     },
     "execution_count": 17,
     "metadata": {},
     "output_type": "execute_result"
    }
   ],
   "source": [
    "df.head()"
   ]
  },
  {
   "cell_type": "code",
   "execution_count": 18,
   "id": "f042efc1-fb8a-4dcb-9830-82fdc6946291",
   "metadata": {},
   "outputs": [
    {
     "name": "stdout",
     "output_type": "stream",
     "text": [
      "<class 'pandas.core.frame.DataFrame'>\n",
      "RangeIndex: 300000 entries, 0 to 299999\n",
      "Data columns (total 12 columns):\n",
      " #   Column               Non-Null Count   Dtype  \n",
      "---  ------               --------------   -----  \n",
      " 0   Campaign_ID          300000 non-null  int64  \n",
      " 1   Campaign_Goal        300000 non-null  object \n",
      " 2   Duration(days)       300000 non-null  int32  \n",
      " 3   Channel_Used         300000 non-null  object \n",
      " 4   Conversion_Rate      300000 non-null  float64\n",
      " 5   Acquisition_Cost($)  300000 non-null  float64\n",
      " 6   ROI                  300000 non-null  float64\n",
      " 7   Location             300000 non-null  object \n",
      " 8   Clicks               300000 non-null  int64  \n",
      " 9   Impressions          300000 non-null  int64  \n",
      " 10  Gender               300000 non-null  object \n",
      " 11  Age_Range            300000 non-null  object \n",
      "dtypes: float64(3), int32(1), int64(3), object(5)\n",
      "memory usage: 26.3+ MB\n"
     ]
    }
   ],
   "source": [
    "df.info()"
   ]
  },
  {
   "cell_type": "code",
   "execution_count": 19,
   "id": "70bb963f-a82d-4ae8-b1a9-992c5a013264",
   "metadata": {},
   "outputs": [],
   "source": [
    "df_unique = df.drop_duplicates(subset=['Campaign_ID'])"
   ]
  },
  {
   "cell_type": "code",
   "execution_count": 20,
   "id": "654ecfe8-8adb-4d21-a7cd-3613b2f09dfc",
   "metadata": {},
   "outputs": [
    {
     "data": {
      "text/plain": [
       "(300000, 12)"
      ]
     },
     "execution_count": 20,
     "metadata": {},
     "output_type": "execute_result"
    }
   ],
   "source": [
    "df.shape"
   ]
  },
  {
   "cell_type": "code",
   "execution_count": 21,
   "id": "4b639831-3f9c-4572-8a11-36a9a55e7db6",
   "metadata": {},
   "outputs": [],
   "source": [
    "# Step 1: Estimate conversions from clicks and conversion rate\n",
    "df['conversions'] = df['Conversion_Rate'] * df['Clicks']\n",
    "\n",
    "# Step 2: Calculate spend\n",
    "df['Total_spend'] = df['Acquisition_Cost($)'] * df['conversions']\n"
   ]
  },
  {
   "cell_type": "code",
   "execution_count": 22,
   "id": "a7d5aac5-1144-4781-bfa8-d83506ebbf4e",
   "metadata": {},
   "outputs": [
    {
     "data": {
      "text/html": [
       "<div>\n",
       "<style scoped>\n",
       "    .dataframe tbody tr th:only-of-type {\n",
       "        vertical-align: middle;\n",
       "    }\n",
       "\n",
       "    .dataframe tbody tr th {\n",
       "        vertical-align: top;\n",
       "    }\n",
       "\n",
       "    .dataframe thead th {\n",
       "        text-align: right;\n",
       "    }\n",
       "</style>\n",
       "<table border=\"1\" class=\"dataframe\">\n",
       "  <thead>\n",
       "    <tr style=\"text-align: right;\">\n",
       "      <th></th>\n",
       "      <th>Campaign_ID</th>\n",
       "      <th>Campaign_Goal</th>\n",
       "      <th>Duration(days)</th>\n",
       "      <th>Channel_Used</th>\n",
       "      <th>Conversion_Rate</th>\n",
       "      <th>Acquisition_Cost($)</th>\n",
       "      <th>ROI</th>\n",
       "      <th>Location</th>\n",
       "      <th>Clicks</th>\n",
       "      <th>Impressions</th>\n",
       "      <th>Gender</th>\n",
       "      <th>Age_Range</th>\n",
       "      <th>conversions</th>\n",
       "      <th>Total_spend</th>\n",
       "    </tr>\n",
       "  </thead>\n",
       "  <tbody>\n",
       "    <tr>\n",
       "      <th>0</th>\n",
       "      <td>529013</td>\n",
       "      <td>Product Launch</td>\n",
       "      <td>15</td>\n",
       "      <td>Instagram</td>\n",
       "      <td>0.15</td>\n",
       "      <td>500.0</td>\n",
       "      <td>5.790000</td>\n",
       "      <td>Las Vegas</td>\n",
       "      <td>500</td>\n",
       "      <td>3000</td>\n",
       "      <td>Men</td>\n",
       "      <td>35-44</td>\n",
       "      <td>75.00</td>\n",
       "      <td>37500.0</td>\n",
       "    </tr>\n",
       "    <tr>\n",
       "      <th>1</th>\n",
       "      <td>275352</td>\n",
       "      <td>Market Expansion</td>\n",
       "      <td>15</td>\n",
       "      <td>Facebook</td>\n",
       "      <td>0.01</td>\n",
       "      <td>500.0</td>\n",
       "      <td>7.210000</td>\n",
       "      <td>Los Angeles</td>\n",
       "      <td>500</td>\n",
       "      <td>3000</td>\n",
       "      <td>Women</td>\n",
       "      <td>45-60</td>\n",
       "      <td>5.00</td>\n",
       "      <td>2500.0</td>\n",
       "    </tr>\n",
       "    <tr>\n",
       "      <th>2</th>\n",
       "      <td>692322</td>\n",
       "      <td>Product Launch</td>\n",
       "      <td>15</td>\n",
       "      <td>Instagram</td>\n",
       "      <td>0.08</td>\n",
       "      <td>500.0</td>\n",
       "      <td>0.430000</td>\n",
       "      <td>Austin</td>\n",
       "      <td>500</td>\n",
       "      <td>3000</td>\n",
       "      <td>Men</td>\n",
       "      <td>45-60</td>\n",
       "      <td>40.00</td>\n",
       "      <td>20000.0</td>\n",
       "    </tr>\n",
       "    <tr>\n",
       "      <th>3</th>\n",
       "      <td>675757</td>\n",
       "      <td>Increase Sales</td>\n",
       "      <td>15</td>\n",
       "      <td>Pinterest</td>\n",
       "      <td>0.03</td>\n",
       "      <td>500.0</td>\n",
       "      <td>0.909824</td>\n",
       "      <td>Miami</td>\n",
       "      <td>293</td>\n",
       "      <td>1937</td>\n",
       "      <td>Men</td>\n",
       "      <td>25-34</td>\n",
       "      <td>8.79</td>\n",
       "      <td>4395.0</td>\n",
       "    </tr>\n",
       "    <tr>\n",
       "      <th>4</th>\n",
       "      <td>535900</td>\n",
       "      <td>Market Expansion</td>\n",
       "      <td>15</td>\n",
       "      <td>Pinterest</td>\n",
       "      <td>0.13</td>\n",
       "      <td>500.0</td>\n",
       "      <td>1.422828</td>\n",
       "      <td>Austin</td>\n",
       "      <td>293</td>\n",
       "      <td>1937</td>\n",
       "      <td>Men</td>\n",
       "      <td>45-60</td>\n",
       "      <td>38.09</td>\n",
       "      <td>19045.0</td>\n",
       "    </tr>\n",
       "  </tbody>\n",
       "</table>\n",
       "</div>"
      ],
      "text/plain": [
       "   Campaign_ID     Campaign_Goal  Duration(days) Channel_Used  \\\n",
       "0       529013    Product Launch              15    Instagram   \n",
       "1       275352  Market Expansion              15     Facebook   \n",
       "2       692322    Product Launch              15    Instagram   \n",
       "3       675757    Increase Sales              15    Pinterest   \n",
       "4       535900  Market Expansion              15    Pinterest   \n",
       "\n",
       "   Conversion_Rate  Acquisition_Cost($)       ROI     Location  Clicks  \\\n",
       "0             0.15                500.0  5.790000    Las Vegas     500   \n",
       "1             0.01                500.0  7.210000  Los Angeles     500   \n",
       "2             0.08                500.0  0.430000       Austin     500   \n",
       "3             0.03                500.0  0.909824        Miami     293   \n",
       "4             0.13                500.0  1.422828       Austin     293   \n",
       "\n",
       "   Impressions Gender Age_Range  conversions  Total_spend  \n",
       "0         3000    Men     35-44        75.00      37500.0  \n",
       "1         3000  Women     45-60         5.00       2500.0  \n",
       "2         3000    Men     45-60        40.00      20000.0  \n",
       "3         1937    Men     25-34         8.79       4395.0  \n",
       "4         1937    Men     45-60        38.09      19045.0  "
      ]
     },
     "execution_count": 22,
     "metadata": {},
     "output_type": "execute_result"
    }
   ],
   "source": [
    "df.head()"
   ]
  },
  {
   "cell_type": "code",
   "execution_count": 23,
   "id": "bf912d04-b34d-4503-a9cb-16621a6ad336",
   "metadata": {},
   "outputs": [
    {
     "data": {
      "text/plain": [
       "Index(['Campaign_ID', 'Campaign_Goal', 'Duration(days)', 'Channel_Used',\n",
       "       'Conversion_Rate', 'Acquisition_Cost($)', 'ROI', 'Location', 'Clicks',\n",
       "       'Impressions', 'Gender', 'Age_Range', 'conversions', 'Total_spend'],\n",
       "      dtype='object')"
      ]
     },
     "execution_count": 23,
     "metadata": {},
     "output_type": "execute_result"
    }
   ],
   "source": [
    "df.columns"
   ]
  },
  {
   "cell_type": "code",
   "execution_count": 24,
   "id": "d128c754-4f83-4ebc-88f3-99d66dd624d8",
   "metadata": {},
   "outputs": [],
   "source": [
    "df['CTR'] = df['Clicks'] / df['Impressions']\n"
   ]
  },
  {
   "cell_type": "code",
   "execution_count": 26,
   "id": "6d0ef446-990d-4f74-9432-39d8d65bb4dd",
   "metadata": {},
   "outputs": [],
   "source": [
    "df['Revenue'] = (df['Total_spend'] * (1 + df['ROI'])).round(2)\n"
   ]
  },
  {
   "cell_type": "code",
   "execution_count": 27,
   "id": "41c89e78-04e4-4a3f-9431-584dda820f24",
   "metadata": {},
   "outputs": [],
   "source": [
    "df = df.drop(columns=['Location', 'Gender'])"
   ]
  },
  {
   "cell_type": "code",
   "execution_count": 28,
   "id": "6368fcb4-7908-4a6e-909e-6e0ef96f62e8",
   "metadata": {},
   "outputs": [
    {
     "data": {
      "text/html": [
       "<div>\n",
       "<style scoped>\n",
       "    .dataframe tbody tr th:only-of-type {\n",
       "        vertical-align: middle;\n",
       "    }\n",
       "\n",
       "    .dataframe tbody tr th {\n",
       "        vertical-align: top;\n",
       "    }\n",
       "\n",
       "    .dataframe thead th {\n",
       "        text-align: right;\n",
       "    }\n",
       "</style>\n",
       "<table border=\"1\" class=\"dataframe\">\n",
       "  <thead>\n",
       "    <tr style=\"text-align: right;\">\n",
       "      <th></th>\n",
       "      <th>Campaign_ID</th>\n",
       "      <th>Campaign_Goal</th>\n",
       "      <th>Duration(days)</th>\n",
       "      <th>Channel_Used</th>\n",
       "      <th>Conversion_Rate</th>\n",
       "      <th>Acquisition_Cost($)</th>\n",
       "      <th>ROI</th>\n",
       "      <th>Clicks</th>\n",
       "      <th>Impressions</th>\n",
       "      <th>Age_Range</th>\n",
       "      <th>conversions</th>\n",
       "      <th>Total_spend</th>\n",
       "      <th>CTR</th>\n",
       "      <th>Revenue</th>\n",
       "    </tr>\n",
       "  </thead>\n",
       "  <tbody>\n",
       "    <tr>\n",
       "      <th>0</th>\n",
       "      <td>529013</td>\n",
       "      <td>Product Launch</td>\n",
       "      <td>15</td>\n",
       "      <td>Instagram</td>\n",
       "      <td>0.15</td>\n",
       "      <td>500.0</td>\n",
       "      <td>5.790000</td>\n",
       "      <td>500</td>\n",
       "      <td>3000</td>\n",
       "      <td>35-44</td>\n",
       "      <td>75.00</td>\n",
       "      <td>37500.0</td>\n",
       "      <td>0.166667</td>\n",
       "      <td>254625.00</td>\n",
       "    </tr>\n",
       "    <tr>\n",
       "      <th>1</th>\n",
       "      <td>275352</td>\n",
       "      <td>Market Expansion</td>\n",
       "      <td>15</td>\n",
       "      <td>Facebook</td>\n",
       "      <td>0.01</td>\n",
       "      <td>500.0</td>\n",
       "      <td>7.210000</td>\n",
       "      <td>500</td>\n",
       "      <td>3000</td>\n",
       "      <td>45-60</td>\n",
       "      <td>5.00</td>\n",
       "      <td>2500.0</td>\n",
       "      <td>0.166667</td>\n",
       "      <td>20525.00</td>\n",
       "    </tr>\n",
       "    <tr>\n",
       "      <th>2</th>\n",
       "      <td>692322</td>\n",
       "      <td>Product Launch</td>\n",
       "      <td>15</td>\n",
       "      <td>Instagram</td>\n",
       "      <td>0.08</td>\n",
       "      <td>500.0</td>\n",
       "      <td>0.430000</td>\n",
       "      <td>500</td>\n",
       "      <td>3000</td>\n",
       "      <td>45-60</td>\n",
       "      <td>40.00</td>\n",
       "      <td>20000.0</td>\n",
       "      <td>0.166667</td>\n",
       "      <td>28600.00</td>\n",
       "    </tr>\n",
       "    <tr>\n",
       "      <th>3</th>\n",
       "      <td>675757</td>\n",
       "      <td>Increase Sales</td>\n",
       "      <td>15</td>\n",
       "      <td>Pinterest</td>\n",
       "      <td>0.03</td>\n",
       "      <td>500.0</td>\n",
       "      <td>0.909824</td>\n",
       "      <td>293</td>\n",
       "      <td>1937</td>\n",
       "      <td>25-34</td>\n",
       "      <td>8.79</td>\n",
       "      <td>4395.0</td>\n",
       "      <td>0.151265</td>\n",
       "      <td>8393.67</td>\n",
       "    </tr>\n",
       "    <tr>\n",
       "      <th>4</th>\n",
       "      <td>535900</td>\n",
       "      <td>Market Expansion</td>\n",
       "      <td>15</td>\n",
       "      <td>Pinterest</td>\n",
       "      <td>0.13</td>\n",
       "      <td>500.0</td>\n",
       "      <td>1.422828</td>\n",
       "      <td>293</td>\n",
       "      <td>1937</td>\n",
       "      <td>45-60</td>\n",
       "      <td>38.09</td>\n",
       "      <td>19045.0</td>\n",
       "      <td>0.151265</td>\n",
       "      <td>46142.76</td>\n",
       "    </tr>\n",
       "  </tbody>\n",
       "</table>\n",
       "</div>"
      ],
      "text/plain": [
       "   Campaign_ID     Campaign_Goal  Duration(days) Channel_Used  \\\n",
       "0       529013    Product Launch              15    Instagram   \n",
       "1       275352  Market Expansion              15     Facebook   \n",
       "2       692322    Product Launch              15    Instagram   \n",
       "3       675757    Increase Sales              15    Pinterest   \n",
       "4       535900  Market Expansion              15    Pinterest   \n",
       "\n",
       "   Conversion_Rate  Acquisition_Cost($)       ROI  Clicks  Impressions  \\\n",
       "0             0.15                500.0  5.790000     500         3000   \n",
       "1             0.01                500.0  7.210000     500         3000   \n",
       "2             0.08                500.0  0.430000     500         3000   \n",
       "3             0.03                500.0  0.909824     293         1937   \n",
       "4             0.13                500.0  1.422828     293         1937   \n",
       "\n",
       "  Age_Range  conversions  Total_spend       CTR    Revenue  \n",
       "0     35-44        75.00      37500.0  0.166667  254625.00  \n",
       "1     45-60         5.00       2500.0  0.166667   20525.00  \n",
       "2     45-60        40.00      20000.0  0.166667   28600.00  \n",
       "3     25-34         8.79       4395.0  0.151265    8393.67  \n",
       "4     45-60        38.09      19045.0  0.151265   46142.76  "
      ]
     },
     "execution_count": 28,
     "metadata": {},
     "output_type": "execute_result"
    }
   ],
   "source": [
    "df.head()"
   ]
  },
  {
   "cell_type": "code",
   "execution_count": null,
   "id": "bb2c36ce-8dd9-4f02-92e3-65e711e36d44",
   "metadata": {},
   "outputs": [],
   "source": []
  },
  {
   "cell_type": "code",
   "execution_count": 30,
   "id": "5ad8f75a-dae2-466a-97fe-653ee3d487e7",
   "metadata": {},
   "outputs": [],
   "source": [
    "df.to_csv(\"C:/Users/DELL/Downloads/Campaign_data.csv\", index=False)"
   ]
  },
  {
   "cell_type": "code",
   "execution_count": null,
   "id": "46508669-6b33-4511-8568-172d8a1115e9",
   "metadata": {},
   "outputs": [],
   "source": []
  },
  {
   "cell_type": "code",
   "execution_count": null,
   "id": "340d8bd3-888f-429d-bdc7-7600fd16af10",
   "metadata": {},
   "outputs": [],
   "source": []
  }
 ],
 "metadata": {
  "kernelspec": {
   "display_name": "Python [conda env:world1]",
   "language": "python",
   "name": "conda-env-world1-py"
  },
  "language_info": {
   "codemirror_mode": {
    "name": "ipython",
    "version": 3
   },
   "file_extension": ".py",
   "mimetype": "text/x-python",
   "name": "python",
   "nbconvert_exporter": "python",
   "pygments_lexer": "ipython3",
   "version": "3.11.9"
  }
 },
 "nbformat": 4,
 "nbformat_minor": 5
}
